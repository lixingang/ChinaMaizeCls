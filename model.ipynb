{
 "cells": [
  {
   "cell_type": "code",
   "execution_count": 26,
   "id": "nuclear-pressing",
   "metadata": {},
   "outputs": [],
   "source": [
    "from osgeo import gdal,osr,ogr,gdal_array,gdalconst\n",
    "import os\n",
    "import numpy as np\n",
    "import random"
   ]
  },
  {
   "cell_type": "code",
   "execution_count": 61,
   "id": "recognized-victim",
   "metadata": {},
   "outputs": [],
   "source": [
    "datasize=512\n",
    "workpath='../../sampledata'\n",
    "paths=os.listdir(workpath)\n",
    "s2title='s2_'\n",
    "CDLtitle='CDL_'\n",
    "\n",
    "def randomlabel(IDX,IDY,num=20):\n",
    "    s2name=s2title+str(IDX)+'_'+str(IDY)\n",
    "    CDLname=CDLtitle+str(IDX)+'_'+str(IDY)\n",
    "    \n",
    "    results={}\n",
    "    results['data']=[]\n",
    "    results['label']=[]\n",
    "    \n",
    "    paths=os.listdir(os.path.join(workpath,CDLname))\n",
    "    \n",
    "    for path in paths:\n",
    "        if '.tif' in path:\n",
    "            i=0\n",
    "            CDLdata=gdal.Open(os.path.join(workpath,CDLname,path))\n",
    "            rows=CDLdata.RasterYSize\n",
    "            cols=CDLdata.RasterXSize\n",
    "            if rows!=datasize or cols!=datasize:\n",
    "                continue\n",
    "            while i<num: \n",
    "                uCDLdata=CDLdata.ReadAsArray(0,0,cols,rows)          \n",
    "                s2data=gdal.Open(os.path.join(workpath,s2name,s2title+path[4:]))\n",
    "                us2data=s2data.ReadAsArray(0,0,cols,rows)\n",
    "                x=random.randint(0,datasize-1)\n",
    "                y=random.randint(0,datasize-1)\n",
    "                Tlabel=uCDLdata[x,y]  \n",
    "                Tdata=us2data[:,x,y]\n",
    "                results['data'].append(Tdata)\n",
    "                results['label'].append(Tlabel)\n",
    "                i+=1\n",
    "    results['data']=np.array(results['data'])\n",
    "    results['label']=np.array(results['label'])\n",
    "    results['label']=np.where(results['label']==1,1,0)\n",
    "    return results\n",
    "            "
   ]
  },
  {
   "cell_type": "code",
   "execution_count": 62,
   "id": "vocational-camcorder",
   "metadata": {},
   "outputs": [
    {
     "name": "stdout",
     "output_type": "stream",
     "text": [
      "245 132\n"
     ]
    }
   ],
   "source": [
    "x=random.randint(0,511)\n",
    "y=random.randint(0,511)\n",
    "print(x,y)"
   ]
  },
  {
   "cell_type": "code",
   "execution_count": 63,
   "id": "optical-purchase",
   "metadata": {},
   "outputs": [
    {
     "name": "stdout",
     "output_type": "stream",
     "text": [
      "(1540, 52)\n"
     ]
    }
   ],
   "source": [
    "datas=randomlabel(28,25)\n",
    "print(datas['data'].shape)"
   ]
  },
  {
   "cell_type": "code",
   "execution_count": null,
   "id": "pleasant-ebony",
   "metadata": {},
   "outputs": [],
   "source": []
  }
 ],
 "metadata": {
  "kernelspec": {
   "display_name": "Python 3",
   "language": "python",
   "name": "python3"
  },
  "language_info": {
   "codemirror_mode": {
    "name": "ipython",
    "version": 3
   },
   "file_extension": ".py",
   "mimetype": "text/x-python",
   "name": "python",
   "nbconvert_exporter": "python",
   "pygments_lexer": "ipython3",
   "version": "3.8.3"
  }
 },
 "nbformat": 4,
 "nbformat_minor": 5
}
